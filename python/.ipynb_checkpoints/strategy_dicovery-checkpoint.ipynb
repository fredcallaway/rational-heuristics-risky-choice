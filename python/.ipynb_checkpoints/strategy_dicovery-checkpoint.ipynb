{
 "cells": [
  {
   "cell_type": "code",
   "execution_count": 163,
   "metadata": {
    "scrolled": true
   },
   "outputs": [],
   "source": [
    "import pandas as pd\n",
    "import numpy as np\n",
    "import matplotlib.pyplot as plt\n",
    "from matplotlib import gridspec\n",
    "import seaborn as sn;\n",
    "pd.set_option(\"display.max_columns\", 101)\n",
    "import pdb\n",
    "import time\n",
    "import pickle\n",
    "import json\n",
    "import importlib\n",
    "from ast import literal_eval\n",
    "import os\n",
    "import process_data as p_d\n",
    "import make_figures as mf\n",
    "import run_statistics as rs\n",
    "from collections import defaultdict\n",
    "import warnings"
   ]
  },
  {
   "cell_type": "code",
   "execution_count": 54,
   "metadata": {
    "scrolled": true
   },
   "outputs": [
    {
     "name": "stderr",
     "output_type": "stream",
     "text": [
      "/Users/paulkrueger/anaconda3/envs/risky-choice2/lib/python3.7/site-packages/IPython/core/interactiveshell.py:3057: DtypeWarning: Columns (43,44,51,52,53,54,55,56,57,58,59,60,61,62,63,64,65,66,67,68,69,70,71,72,73,74,75,76) have mixed types.Specify dtype option on import or set low_memory=False.\n",
      "  interactivity=interactivity, compiler=compiler, result=result)\n"
     ]
    }
   ],
   "source": [
    "# R model\n",
    "# exp2 under-performance writeup\n",
    "# figure captions\n",
    "# stats subfolders\n",
    "\n",
    "importlib.reload(p_d)\n",
    "df1 = pd.read_csv('../data/human/1.0/processed/trials.csv')\n",
    "\n",
    "df2 = p_d.append_R_features(df1)\n",
    "\n",
    "df2.to_csv('../data/human/1.0/processed/trials.csv', index=False)\n"
   ]
  },
  {
   "cell_type": "code",
   "execution_count": 177,
   "metadata": {},
   "outputs": [
    {
     "data": {
      "text/html": [
       "<div>\n",
       "<style scoped>\n",
       "    .dataframe tbody tr th:only-of-type {\n",
       "        vertical-align: middle;\n",
       "    }\n",
       "\n",
       "    .dataframe tbody tr th {\n",
       "        vertical-align: top;\n",
       "    }\n",
       "\n",
       "    .dataframe thead th {\n",
       "        text-align: right;\n",
       "    }\n",
       "</style>\n",
       "<table border=\"1\" class=\"dataframe\">\n",
       "  <thead>\n",
       "    <tr style=\"text-align: right;\">\n",
       "      <th></th>\n",
       "      <th>param</th>\n",
       "      <th>beta</th>\n",
       "      <th>std_error</th>\n",
       "      <th>z_value</th>\n",
       "      <th>p</th>\n",
       "    </tr>\n",
       "  </thead>\n",
       "  <tbody>\n",
       "    <tr>\n",
       "      <th>1</th>\n",
       "      <td>(Intercept)</td>\n",
       "      <td>-2.15459431</td>\n",
       "      <td>0.09755233</td>\n",
       "      <td>-22.086548</td>\n",
       "      <td>4.257082e-108</td>\n",
       "    </tr>\n",
       "    <tr>\n",
       "      <th>2</th>\n",
       "      <td>R_sigma</td>\n",
       "      <td>0.14323742</td>\n",
       "      <td>0.08156634</td>\n",
       "      <td>1.756085</td>\n",
       "      <td>7.907390e-02</td>\n",
       "    </tr>\n",
       "    <tr>\n",
       "      <th>3</th>\n",
       "      <td>R_alpha</td>\n",
       "      <td>-0.35821046</td>\n",
       "      <td>0.03092155</td>\n",
       "      <td>-11.584492</td>\n",
       "      <td>4.938878e-31</td>\n",
       "    </tr>\n",
       "    <tr>\n",
       "      <th>4</th>\n",
       "      <td>R_cost</td>\n",
       "      <td>-0.01802967</td>\n",
       "      <td>0.01465144</td>\n",
       "      <td>-1.230573</td>\n",
       "      <td>2.184826e-01</td>\n",
       "    </tr>\n",
       "  </tbody>\n",
       "</table>\n",
       "</div>"
      ],
      "text/plain": [
       "         param         beta   std_error     z_value              p\n",
       "1  (Intercept)  -2.15459431  0.09755233  -22.086548  4.257082e-108\n",
       "2      R_sigma   0.14323742  0.08156634    1.756085   7.907390e-02\n",
       "3      R_alpha  -0.35821046  0.03092155  -11.584492   4.938878e-31\n",
       "4       R_cost  -0.01802967  0.01465144   -1.230573   2.184826e-01"
      ]
     },
     "execution_count": 177,
     "metadata": {},
     "output_type": "execute_result"
    }
   ],
   "source": [
    "d\n",
    "# type(eval('1.493265e-176'))\n",
    "# print('so\\n','\\n'.join(substr))\n",
    "# data\n",
    "# df.iloc[0,0]\n",
    "df['param']"
   ]
  },
  {
   "cell_type": "code",
   "execution_count": 175,
   "metadata": {},
   "outputs": [
    {
     "name": "stdout",
     "output_type": "stream",
     "text": [
      "you need to run ../R/logistic_regression.R to create:\n",
      " ../stats/exp1/R/R____TTB_SAT.txt\n",
      "../stats/exp1/R/R____SAT_TTB.txt\n",
      "../stats/exp1/R/R____TTB.txt\n",
      "../stats/exp1/R/R____WADD.txt\n",
      "../stats/exp1/R/R____Rand.txt\n",
      "../stats/exp1/R/R____Other.txt\n"
     ]
    }
   ],
   "source": [
    "stats_dir = '../stats/exp1/'\n",
    "print_result = True\n",
    "\n",
    "def exp1_logistic_regression(stats_dir):\n",
    "    stats_dir += 'R/'\n",
    "\n",
    "    def make_df(data):\n",
    "        columns = ['param','beta','std_error','z_value','p']\n",
    "        df = pd.DataFrame(columns=columns)\n",
    "        for row in range(1,5):\n",
    "            substr=[]\n",
    "            i,j=0,0\n",
    "            while i<len(data[row]):\n",
    "                while data[row][j] == ' ':\n",
    "                    j+=1\n",
    "                i=j\n",
    "                while i<len(data[row]) and data[row][i] != ' ':\n",
    "                    i+=1\n",
    "                substr.append(data[row][j:i])\n",
    "                j=i\n",
    "            for i,s in enumerate(substr):\n",
    "                df.loc[row,columns[i]] = s\n",
    "                pdb.set_trace()\n",
    "        return df\n",
    "\n",
    "    strategies = ['TTB_SAT','SAT_TTB','TTB','WADD','Rand','Other']\n",
    "    for strategy in strategies:\n",
    "        try:\n",
    "            with open(stats_dir+'R_'+strategy+'.txt', 'r') as f:\n",
    "                data = f.read().split('\\n\\n')\n",
    "            data = [i.split('\\n') for i in data][0]\n",
    "        except:\n",
    "            print('you need to run ../R/logistic_regression.R to create:\\n',\\\n",
    "                 '\\n'.join([stats_dir+'R_'+s+'.txt' for s in strategies]))\n",
    "            if not os.path.exists(stats_dir): os.makedirs(stats_dir)\n",
    "            return\n",
    "        df = make_df(data)\n",
    "\n",
    "        with open(stats_dir+strategy+'.txt', 'w') as f:\n",
    "            f.write(lm_str1+lm_str2)\n",
    "\n",
    "        if print_result:\n",
    "            p_d.print_special(strategy)\n",
    "            print(df, '\\n')\n",
    "            \n",
    "            \n",
    "exp1_logistic_regression(stats_dir)"
   ]
  },
  {
   "cell_type": "code",
   "execution_count": 53,
   "metadata": {},
   "outputs": [],
   "source": []
  }
 ],
 "metadata": {
  "kernelspec": {
   "display_name": "Python 3",
   "language": "python",
   "name": "python3"
  },
  "language_info": {
   "codemirror_mode": {
    "name": "ipython",
    "version": 3
   },
   "file_extension": ".py",
   "mimetype": "text/x-python",
   "name": "python",
   "nbconvert_exporter": "python",
   "pygments_lexer": "ipython3",
   "version": "3.7.3"
  }
 },
 "nbformat": 4,
 "nbformat_minor": 2
}
