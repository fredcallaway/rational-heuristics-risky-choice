{
 "cells": [
  {
   "cell_type": "code",
   "execution_count": 2,
   "metadata": {
    "scrolled": true
   },
   "outputs": [
    {
     "name": "stderr",
     "output_type": "stream",
     "text": [
      "/Users/paulkrueger/anaconda3/envs/risky-choice2/lib/python3.7/site-packages/statsmodels/tools/_testing.py:19: FutureWarning: pandas.util.testing is deprecated. Use the functions in the public API at pandas.testing instead.\n",
      "  import pandas.util.testing as tm\n"
     ]
    }
   ],
   "source": [
    "import pandas as pd\n",
    "import numpy as np\n",
    "import matplotlib.pyplot as plt\n",
    "from matplotlib import gridspec\n",
    "import seaborn as sn;\n",
    "pd.set_option(\"display.max_columns\", 101)\n",
    "import pdb\n",
    "import time\n",
    "import pickle\n",
    "import json\n",
    "import importlib\n",
    "from ast import literal_eval\n",
    "import os\n",
    "import process_data as p_d\n",
    "import make_figures as mf\n",
    "import run_statistics as rs\n",
    "from collections import defaultdict\n",
    "import warnings"
   ]
  },
  {
   "cell_type": "code",
   "execution_count": 33,
   "metadata": {},
   "outputs": [
    {
     "data": {
      "text/plain": [
       "79"
      ]
     },
     "execution_count": 33,
     "metadata": {},
     "output_type": "execute_result"
    }
   ],
   "source": [
    "len('===============================================================================')"
   ]
  },
  {
   "cell_type": "code",
   "execution_count": 34,
   "metadata": {
    "scrolled": true
   },
   "outputs": [
    {
     "name": "stdout",
     "output_type": "stream",
     "text": [
      "===============================================================================\n",
      "you need to run ../R/logistic_regression.R to create:\n",
      "../../R_TTB.txt\n",
      "../../R_SAT.txt\n",
      "===============================================================================\n",
      "======== !!! ABORTING exp1_logistic_regression (see message above) !!! ========\n",
      "===============================================================================\n"
     ]
    }
   ],
   "source": [
    "# R model\n",
    "# exp2 under-performance writeup\n",
    "# figure captions\n",
    "# stats subfolders\n"
   ]
  }
 ],
 "metadata": {
  "kernelspec": {
   "display_name": "Python 3",
   "language": "python",
   "name": "python3"
  },
  "language_info": {
   "codemirror_mode": {
    "name": "ipython",
    "version": 3
   },
   "file_extension": ".py",
   "mimetype": "text/x-python",
   "name": "python",
   "nbconvert_exporter": "python",
   "pygments_lexer": "ipython3",
   "version": "3.7.3"
  }
 },
 "nbformat": 4,
 "nbformat_minor": 2
}
