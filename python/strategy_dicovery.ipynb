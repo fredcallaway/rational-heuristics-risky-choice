{
 "cells": [
  {
   "cell_type": "code",
   "execution_count": 1,
   "metadata": {
    "scrolled": true
   },
   "outputs": [
    {
     "name": "stderr",
     "output_type": "stream",
     "text": [
      "/Users/paulkrueger/anaconda3/lib/python3.7/site-packages/statsmodels/tools/_testing.py:19: FutureWarning: pandas.util.testing is deprecated. Use the functions in the public API at pandas.testing instead.\n",
      "  import pandas.util.testing as tm\n"
     ]
    }
   ],
   "source": [
    "import pandas as pd\n",
    "import numpy as np\n",
    "import matplotlib.pyplot as plt\n",
    "from matplotlib import gridspec\n",
    "import seaborn as sn;\n",
    "pd.set_option(\"display.max_columns\", 101)\n",
    "import pdb\n",
    "import time\n",
    "import pickle\n",
    "import json\n",
    "import importlib\n",
    "from ast import literal_eval\n",
    "import os\n",
    "import process_data as p_d\n",
    "import make_figures as mf\n",
    "import run_statistics as rs\n",
    "from collections import defaultdict\n",
    "import warnings"
   ]
  },
  {
   "cell_type": "code",
   "execution_count": 105,
   "metadata": {},
   "outputs": [
    {
     "name": "stdout",
     "output_type": "stream",
     "text": [
      "payoff_net_modelDiff None 0.27184466019417475\n"
     ]
    },
    {
     "data": {
      "text/plain": [
       "0      -74\n",
       "1      -74\n",
       "2      -74\n",
       "3      -74\n",
       "4      -74\n",
       "        ..\n",
       "4115   -74\n",
       "4116   -74\n",
       "4117   -74\n",
       "4118   -74\n",
       "4119   -74\n",
       "Name: sigma, Length: 4120, dtype: int64"
      ]
     },
     "execution_count": 105,
     "metadata": {},
     "output_type": "execute_result"
    }
   ],
   "source": [
    "# re-run data processing\n",
    "# re-run rs.under_performance\n",
    "# regenerate under-performance figures\n",
    "\n",
    "# R model\n",
    "\n",
    "\n",
    "def remove_bad_participants(df, exp=1, **kwargs):\n",
    "    if exp==1:\n",
    "        criteria, cutoff, n = 'Rand', None, None\n",
    "    else:\n",
    "        criteria, cutoff, n = 'payoff_net_modelDiff', None, 0.27184466019417475 # fraction of exp2 control group participants with >50% random trials\n",
    "    if 'criteria' in kwargs: criteria = kwargs['criteria']\n",
    "    if 'cutoff' in kwargs: cutoff = kwargs['cutoff']\n",
    "    if 'n' in kwargs: n = kwargs['n']\n",
    "    print(criteria,cutoff,n)\n",
    "    \n",
    "remove_bad_participants(1,2)\n",
    "# remove_bad_participants(1, **{'criteria':'payoff__','n':0.27})\n",
    "\n",
    "# qw={}\n",
    "# if qw:\n",
    "#     print('hi')\n",
    "\n",
    "1-df.sigma"
   ]
  }
 ],
 "metadata": {
  "kernelspec": {
   "display_name": "Python 3",
   "language": "python",
   "name": "python3"
  },
  "language_info": {
   "codemirror_mode": {
    "name": "ipython",
    "version": 3
   },
   "file_extension": ".py",
   "mimetype": "text/x-python",
   "name": "python",
   "nbconvert_exporter": "python",
   "pygments_lexer": "ipython3",
   "version": "3.7.3"
  }
 },
 "nbformat": 4,
 "nbformat_minor": 2
}
