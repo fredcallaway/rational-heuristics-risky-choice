{
 "cells": [
  {
   "cell_type": "code",
   "execution_count": 2,
   "metadata": {
    "scrolled": true
   },
   "outputs": [
    {
     "name": "stderr",
     "output_type": "stream",
     "text": [
      "/Users/paulkrueger/anaconda3/envs/risky-choice2/lib/python3.7/site-packages/statsmodels/tools/_testing.py:19: FutureWarning: pandas.util.testing is deprecated. Use the functions in the public API at pandas.testing instead.\n",
      "  import pandas.util.testing as tm\n"
     ]
    }
   ],
   "source": [
    "import pandas as pd\n",
    "import numpy as np\n",
    "import matplotlib.pyplot as plt\n",
    "from matplotlib import gridspec\n",
    "import seaborn as sn;\n",
    "pd.set_option(\"display.max_columns\", 101)\n",
    "import pdb\n",
    "import time\n",
    "import pickle\n",
    "import json\n",
    "import importlib\n",
    "from ast import literal_eval\n",
    "import os\n",
    "import process_data as p_d\n",
    "import make_figures as mf\n",
    "import run_statistics as rs\n",
    "from collections import defaultdict\n",
    "import warnings"
   ]
  },
  {
   "cell_type": "code",
   "execution_count": 26,
   "metadata": {
    "scrolled": true
   },
   "outputs": [],
   "source": [
    "# R model\n",
    "# exp2 under-performance writeup\n",
    "# figure captions\n",
    "# stats subfolders\n",
    "\n",
    "# df1 = pd.read_csv('../data/model/exp1/processed/trials.csv')\n",
    "# df2 = pd.read_csv('../data/human/1.0/processed/trials.csv')\n",
    "qw=True\n",
    "if qw==2 | True:\n",
    "    print('hi')"
   ]
  }
 ],
 "metadata": {
  "kernelspec": {
   "display_name": "Python 3",
   "language": "python",
   "name": "python3"
  },
  "language_info": {
   "codemirror_mode": {
    "name": "ipython",
    "version": 3
   },
   "file_extension": ".py",
   "mimetype": "text/x-python",
   "name": "python",
   "nbconvert_exporter": "python",
   "pygments_lexer": "ipython3",
   "version": "3.7.3"
  }
 },
 "nbformat": 4,
 "nbformat_minor": 2
}
